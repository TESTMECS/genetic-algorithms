{
  "nbformat": 4,
  "nbformat_minor": 0,
  "metadata": {
    "colab": {
      "provenance": []
    },
    "kernelspec": {
      "name": "python3",
      "display_name": "Python 3"
    },
    "language_info": {
      "name": "python"
    }
  },
  "cells": [
    {
      "cell_type": "markdown",
      "source": [
        "## 🌸 Flower Pollination Algorithm (FPA)\n",
        "\n",
        "The Flower Pollination Algorithm (FPA) is a nature-inspired metaheuristic optimization algorithm developed by Xin-She Yang in 2012. It mimics the fascinating process of flower pollination, where flowers reproduce by transferring pollen.\n",
        "\n",
        "### 💡 Concepts:\n",
        "\n",
        "- **Pollination Process:** FPA is inspired by the two main types of pollination:\n",
        "    - **Global Pollination:** Simulates the long-distance movement of pollen by wind or insects, often involving a Lévy flight distribution for larger jumps in the search space.\n",
        "    - **Local Pollination:** Models the short-distance movement of pollen, like self-pollination or pollination by nearby insects, typically using a local random walk.\n",
        "- **Flower Constancy:** This concept suggests that pollinators tend to visit flowers of the same species, which can be related to the selection pressure towards better solutions.\n",
        "- **Switching Probability (p):** A crucial parameter that controls the likelihood of switching between global and local pollination. A higher 'p' favors global exploration, while a lower 'p' emphasizes local exploitation.\n",
        "\n",
        "### 🛠️ Uses:\n",
        "\n",
        "FPA has been successfully applied to a wide range of optimization problems due to its balance between exploration and exploitation:\n",
        "\n",
        "- **Engineering Design:** Optimizing parameters in various engineering fields, such as structural design, electrical circuits, and control systems.\n",
        "- **Machine Learning:** Parameter tuning for machine learning models and feature selection.\n",
        "- **Image Processing:** Image segmentation and edge detection.\n",
        "- **Job Scheduling:** Optimizing task allocation and scheduling in complex systems.\n",
        "- **Solving Complex Optimization Problems:** Particularly effective for multimodal functions and problems with many local optima.\n",
        "\n",
        "### 🚀 Future Research Directions:\n",
        "\n",
        "The FPA is a relatively new algorithm, and there's ample scope for future research and development:\n",
        "\n",
        "- **Hybridization:** Combining FPA with other metaheuristic algorithms (e.g., Particle Swarm Optimization, Genetic Algorithms) to leverage their respective strengths.\n",
        "- **Adaptive Parameters:** Developing adaptive mechanisms to dynamically adjust parameters like the switching probability 'p' during the optimization process based on the search progress.\n",
        "- **Applying FPA to New Domains:** Exploring the application of FPA to emerging fields like big data analysis, cloud computing, and cybersecurity.\n",
        "- **Theoretical Analysis:** Further theoretical analysis of FPA's convergence properties and performance on different types of optimization problems.\n",
        "- **Multi-Objective Optimization:** Extending FPA to solve multi-objective optimization problems where multiple conflicting objectives need to be optimized simultaneously.\n",
        "\n",
        "FTG --- A.W."
      ],
      "metadata": {
        "id": "PL9s0XgcDBz9"
      }
    },
    {
      "cell_type": "markdown",
      "source": [
        "## [Visualization!!](https://g.co/gemini/share/87425452b751)"
      ],
      "metadata": {
        "id": "WVwElmIVf1Ic"
      }
    },
    {
      "cell_type": "code",
      "execution_count": null,
      "metadata": {
        "colab": {
          "base_uri": "https://localhost:8080/"
        },
        "id": "aSwxUdeQC8jy",
        "outputId": "28c9a320-8c7a-4a46-b590-7e970ad51f15"
      },
      "outputs": [
        {
          "output_type": "stream",
          "name": "stdout",
          "text": [
            "Best position: [3.73526567 3.16084119]\n",
            "Best fitness: -0.5824\n"
          ]
        }
      ],
      "source": [
        "#@title A simple  implementation\n",
        "\n",
        "import numpy as np\n",
        "import scipy\n",
        "\n",
        "def fitness(x):\n",
        "  return -np.cos(x[0]) * np.cos(x[1]) * np.exp(-(x[0] - np.pi)**2 - (x[1] - np.pi)**2)\n",
        "\n",
        "# === params ======\n",
        "num_flowers = 100\n",
        "num_dims = 2\n",
        "max_iter = 200\n",
        "p = 0.8 # switching probability between global and local pollination.\n",
        "gamma = 0.1 # Step size factor for global pollination.\n",
        "lower_bound = -100\n",
        "upper_bound = 100\n",
        "# ==================\n",
        "positions = np.random.uniform(lower_bound, upper_bound, (num_flowers, num_dims))\n",
        "fitness_values = np.array([fitness(pos) for pos in positions])\n",
        "best_position = positions[np.argmin(fitness_values)]\n",
        "best_fitness = np.min(fitness_values)\n",
        "# === main loop ====\n",
        "for i in range(max_iter):\n",
        "  # Loop over each flower\n",
        "  for j in range(num_flowers):\n",
        "    # Generate a random number\n",
        "    q = np.random.rand()\n",
        "    if q < p:\n",
        "      # Global pollination to update position.\n",
        "      new_position = positions[j] + gamma * scipy.stats.levy_stable.rvs(1.5, 0, size=num_dims) * (best_position - positions[j])\n",
        "    else:\n",
        "      # Local pollination to update position.\n",
        "      neighbor = j\n",
        "      while neighbor == j:\n",
        "        neighbor = np.random.randint(num_flowers)\n",
        "      new_position = positions[j] + np.random.uniform(-1, 1, num_dims) * (positions[j] - positions[neighbor])\n",
        "      # Apply boundary conditions\n",
        "      new_position = np.clip(new_position, lower_bound, upper_bound)\n",
        "      # Evaluate the fitness value of the new position.\n",
        "      new_fitness = fitness(new_position)\n",
        "      # Update the position and fitness value if the new fitness value is better.\n",
        "      if new_fitness < fitness_values[j]:\n",
        "        positions[j] = new_position.copy()\n",
        "        fitness_values[j] = new_fitness\n",
        "        if new_fitness < best_fitness:\n",
        "          best_position = positions[j].copy()\n",
        "          best_fitness = new_fitness\n",
        "      #print(f\"Iteration {i+1}: Best fitness = {best_fitness:.4f}\")\n",
        "print(f\"Best position: {best_position}\")\n",
        "print(f\"Best fitness: {best_fitness:.4f}\")\n",
        "\n",
        "\n"
      ]
    },
    {
      "cell_type": "code",
      "source": [],
      "metadata": {
        "id": "Y43PlQtxErnH"
      },
      "execution_count": null,
      "outputs": []
    }
  ]
}