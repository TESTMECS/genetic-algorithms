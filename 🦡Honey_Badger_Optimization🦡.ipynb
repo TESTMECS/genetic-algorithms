{
  "nbformat": 4,
  "nbformat_minor": 0,
  "metadata": {
    "colab": {
      "provenance": []
    },
    "kernelspec": {
      "name": "python3",
      "display_name": "Python 3"
    },
    "language_info": {
      "name": "python"
    }
  },
  "cells": [
    {
      "cell_type": "markdown",
      "source": [
        "# Honey Badger Algorithm (HBA) 🦡\n",
        "\n",
        "## Overview 📊\n",
        "\n",
        "The Honey Badger Algorithm (HBA) is a nature-inspired optimization algorithm that mimics the foraging behavior of honey badgers. Key concepts include:\n",
        "\n",
        "- **Population of Honey Badgers:** Each badger represents a potential solution to the optimization problem.\n",
        "- **Food Source Matrix:** Stores the best solutions found so far, representing attractive foraging areas.\n",
        "- **Digging Model:** Simulates the badger's movement towards promising food sources.\n",
        "- **Hunting Model:** Simulates the badger's exploration around food sources to find better solutions.\n",
        "- **Control Parameters:** Factors like digging depth, hunting radius, and switching probability influence the algorithm's exploration and exploitation balance.\n",
        "\n",
        "## Uses and Applications 🛠️\n",
        "\n",
        "The HBA can be applied to various optimization problems, including:\n",
        "\n",
        "- **Function Optimization:** Finding the minimum or maximum of mathematical functions.\n",
        "- **Engineering Design:** Optimizing parameters for engineering systems.\n",
        "- **Machine Learning:** Hyperparameter tuning for models.\n",
        "- **Feature Selection:** Identifying the most relevant features in a dataset.\n",
        "\n",
        "## Future Research Directions 🔭\n",
        "\n",
        "Potential areas for future research on the HBA include:\n",
        "\n",
        "- **Hybridization:** Combining HBA with other optimization algorithms to enhance performance.\n",
        "- **Adaptive Parameters:** Developing methods for dynamically adjusting the algorithm's parameters during execution.\n",
        "- **Multi-objective Optimization:** Extending HBA to solve problems with multiple conflicting objectives.\n",
        "- **Parallelization:** Implementing parallel versions of HBA to speed up computation on multi-core processors or distributed systems.\n",
        "- **Theoretical Analysis:** Further theoretical investigation into the convergence properties and performance guarantees of HBA."
      ],
      "metadata": {
        "id": "X2HmqVZx_VnE"
      }
    },
    {
      "cell_type": "markdown",
      "source": [
        "## [Visualizations !!](https://g.co/gemini/share/7f186899fb81)"
      ],
      "metadata": {
        "id": "YPlqF2hkJMeZ"
      }
    },
    {
      "cell_type": "code",
      "execution_count": null,
      "metadata": {
        "colab": {
          "base_uri": "https://localhost:8080/"
        },
        "id": "0qBIVztX_SsD",
        "outputId": "0328fe19-12ae-4295-ea59-59052627af3b"
      },
      "outputs": [
        {
          "output_type": "stream",
          "name": "stdout",
          "text": [
            "Best position: [3.14159045 3.14159716]\n",
            "Best fitness: -0.9999999999622464\n"
          ]
        }
      ],
      "source": [
        "import numpy as np\n",
        "\n",
        "def fitness(x):\n",
        "  return -np.cos(x[0]) * np.cos(x[1]) * np.exp(-(x[0] - np.pi)**2 - (x[1] - np.pi)**2)\n",
        "\n",
        "# === params ===\n",
        "num_badgers = 100\n",
        "num_dims = 2\n",
        "max_iter = 1000\n",
        "alpha = 0.01 # digging depth factor.\n",
        "beta = 0.1 # hunting radius factor.\n",
        "p = 0.5 # Switching probability between digging and hunting.\n",
        "lower_bound = -10\n",
        "upper_bound = 10\n",
        "# === initalize random values ===\n",
        "positions = np.random.uniform(lower_bound, upper_bound, (num_badgers, num_dims))\n",
        "fitness_values = np.array([fitness(pos) for pos in positions])\n",
        "best_position = positions[np.argmin(fitness_values)]\n",
        "best_fitness = np.min(fitness_values)\n",
        "# === initalize food source positions and values ======\n",
        "food_sources = np.tile(best_position, (num_badgers, 1))\n",
        "food_fitness = np.tile(best_fitness, (num_badgers))\n",
        "\n",
        "# === main loop ====\n",
        "for i in range(max_iter):\n",
        "  # loop over each honey badger\n",
        "  for j in range(num_badgers):\n",
        "    # Choose a random food source index\n",
        "    food_index = np.random.randint(num_badgers)\n",
        "    # Calculate the distance between the badger and the food source\n",
        "    distance = np.linalg.norm(positions[j] - food_sources[food_index])\n",
        "    # Calculate the fitness difference between the badger and the food source\n",
        "    q = np.random.rand()\n",
        "    if q < p:\n",
        "      # Use digging model to update position.\n",
        "      new_position = distance * np.exp(-alpha * distance) * np.cos(2 * np.pi * distance) + food_sources[food_index]\n",
        "    else:\n",
        "      # Use hunting model to update position.\n",
        "      new_position = food_sources[food_index] + beta * distance * np.random.uniform(-1, 1, num_dims)\n",
        "    # Apply boundary conditions.\n",
        "    new_position = np.clip(new_position, lower_bound, upper_bound)\n",
        "    # Calculate the fitness of the new position\n",
        "    new_fitness = fitness(new_position)\n",
        "    # Update the badger's position and fitness if the new fitness is better\n",
        "    if new_fitness < fitness_values[j]:\n",
        "      positions[j] = new_position.copy()\n",
        "      fitness_values[j] = new_fitness\n",
        "      if new_fitness < best_fitness:\n",
        "        best_position = new_position.copy()\n",
        "        best_fitness = new_fitness\n",
        "    # Sort the honey badgers by their fitness values in ascending order.\n",
        "    sorted_indices = np.argsort(fitness_values)\n",
        "    positions = positions[sorted_indices]\n",
        "    fitness_values = fitness_values[sorted_indices]\n",
        "    # Update the number of food sources based on a linear decreasing scheme\n",
        "    num_food_sources = num_badgers - i * (num_badgers - 1) // max_iter\n",
        "    # Update the food source positions and fitness values by copying from the best honey badgers.\n",
        "    food_sources[:num_food_sources] = positions[:num_food_sources].copy()\n",
        "    food_fitness[:num_food_sources] = fitness_values[:num_food_sources].copy()\n",
        "print(\"Best position:\", best_position)\n",
        "print(\"Best fitness:\", best_fitness)\n"
      ]
    }
  ]
}