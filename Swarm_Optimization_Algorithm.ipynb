{
  "nbformat": 4,
  "nbformat_minor": 0,
  "metadata": {
    "colab": {
      "provenance": []
    },
    "kernelspec": {
      "name": "python3",
      "display_name": "Python 3"
    },
    "language_info": {
      "name": "python"
    }
  },
  "cells": [
    {
      "cell_type": "markdown",
      "source": [
        "## Swarm Optimization Algorithm\n",
        "### Overview\n",
        "- Population of Agents that move in a multi-dimensional space.\n",
        "- Fitness function that evaluates the quality of each agent's position.\n",
        "- Communication protocol that allows agents to share information with their neighbors.\n",
        "- Set of parameters that control the exploration and exploitation trade-off\n",
        "\n",
        "### Uses\n",
        "- Optimal solution to a complex problem i.e. minimizing a nonlinear function or designing a neural network.\n",
        "- Random initalization -> no priors.\n",
        "- Each agent evaluates its fitness at every iteration -> tracibility\n",
        "- Knowledge of its \"personal best\" and \"global best\" amoung its neighbors.\n",
        "- Updates using exploration & exploitation formula.\n",
        "- Ends when a predefined criterion is met."
      ],
      "metadata": {
        "id": "MvLlK3cA6Ufr"
      }
    },
    {
      "cell_type": "code",
      "source": [
        "#@title simple implementation\n",
        "import numpy as np\n",
        "# === fitness =======\n",
        "def fitness(x):\n",
        "  return 10 * len(x) + np.sum(x**2 - 10 * np.cos(2 * np.pi * x ))\n",
        "\n",
        "# === params ======\n",
        "num_agents = 100\n",
        "num_dims = 10\n",
        "max_iter = 1000\n",
        "w = 0.9 # inertia weight\n",
        "c1 = 2 # cognative coefficient\n",
        "c2 = 2 # social coefficient\n",
        "lower_bound = -5.12 # lower bound of search space.\n",
        "upper_bound = 5.12 # upper bound of search space.\n",
        "\n",
        "# === random init ====\n",
        "positions = np.random.uniform(lower_bound, upper_bound, (num_agents, num_dims))\n",
        "velocities = np.random.uniform(-1, 1, (num_agents, num_dims))\n",
        "\n",
        "# === personal best positions ======\n",
        "personal_best_positions = positions.copy()\n",
        "personal_best_fitness = np.array([fitness(x) for x in personal_best_positions])\n",
        "\n",
        "# === global best positions ======\n",
        "global_best_position = personal_best_positions[np.argmin(personal_best_fitness)]\n",
        "global_best_fitness = np.min(personal_best_fitness)\n",
        "\n",
        "\n",
        "# === main loop =======\n",
        "for i in range(max_iter):\n",
        "  # update velocities and positions\n",
        "  for j in range(num_agents):\n",
        "    r1 = np.random.randn()\n",
        "    r2 = np.random.randn()\n",
        "    # Update velocity based on personal and global and current position\n",
        "    velocities[j] = w * velocities[j] + c1 * r1 * (personal_best_positions[j] - positions[j]) + c2 * r2 * (global_best_position - positions[j])\n",
        "    # Update position\n",
        "    positions[j] = positions[j] + velocities[j]\n",
        "    # Apply boundary conditions.\n",
        "    positions[j] = np.clip(positions[j], lower_bound, upper_bound)\n",
        "    # Evaluate fitness of new position\n",
        "    fitness_new = fitness(positions[j])\n",
        "    # Update personal best\n",
        "    if fitness_new < personal_best_fitness[j]:\n",
        "      personal_best_positions[j] = positions[j].copy()\n",
        "      personal_best_fitness[j] = fitness_new\n",
        "      if fitness_new < global_best_fitness:\n",
        "        global_best_position = positions[j].copy()\n",
        "        global_best_fitness = fitness_new\n",
        "\n",
        "print(\"Global best position: \", global_best_position)\n",
        "print(\"Global best fitness: \", global_best_fitness)"
      ],
      "metadata": {
        "colab": {
          "base_uri": "https://localhost:8080/"
        },
        "id": "Ca3Xog-H7V4x",
        "outputId": "dfe2ba53-4679-42d0-f74a-513c50217978"
      },
      "execution_count": null,
      "outputs": [
        {
          "output_type": "stream",
          "name": "stdout",
          "text": [
            "Global best position:  [-3.05336614e-03 -8.67156280e-01  1.94382525e+00 -4.50408741e-02\n",
            " -1.96334725e+00  6.78835664e-01  4.74944138e-01 -5.12000000e+00\n",
            " -9.93724521e-01  1.03570909e+00]\n",
            "Global best fitness:  79.08304689546486\n"
          ]
        }
      ]
    },
    {
      "cell_type": "code",
      "source": [
        "import numpy as np\n",
        "# Let's use the Swarm Optimization Algorithm to find the minimum of the Himmelblau function.\n",
        "# The Himmelblau function is a multimodal function, meaning it has multiple local minima.\n",
        "# It is often used as a test function for optimization algorithms.\n",
        "# The function is defined as:\n",
        "# f(x, y) = (x^2 + y - 11)^2 + (x + y^2 - 7)^2\n",
        "# It has four local minima at (3, 2), (-2.805118, 3.131312), (-3.779310, -3.283186), and (3.584428, -1.848126),\n",
        "# and a global minimum at all four of these points with a value of 0.\n",
        "# The search space is typically limited to -5 <= x <= 5 and -5 <= y <= 5.\n",
        "\n",
        "# First, we need to define the Himmelblau function as our fitness function.\n",
        "def himmelblau(x):\n",
        "  # x is a 2-element array [x, y]\n",
        "  return (x[0]**2 + x[1] - 11)**2 + (x[0] + x[1]**2 - 7)**2\n",
        "\n",
        "# Now, let's update the parameters for the Swarm Optimization Algorithm to fit the Himmelblau function.\n",
        "num_dims = 2  # The Himmelblau function is 2-dimensional\n",
        "lower_bound = -5.0\n",
        "upper_bound = 5.0\n",
        "max_iter = 1000\n",
        "w = 0.8\n",
        "c1 = 2\n",
        "c2 = 2\n",
        "\n",
        "# Reset the initial positions and velocities based on the new dimensions and bounds.\n",
        "positions = np.random.uniform(lower_bound, upper_bound, (num_agents, num_dims))\n",
        "velocities = np.random.uniform(-(upper_bound - lower_bound), (upper_bound - lower_bound), (num_agents, num_dims)) # A common approach for velocity bounds\n",
        "\n",
        "# Recalculate initial personal best positions and fitness using the new fitness function.\n",
        "personal_best_positions = positions.copy()\n",
        "personal_best_fitness = np.array([himmelblau(x) for x in personal_best_positions])\n",
        "\n",
        "# Recalculate initial global best position and fitness.\n",
        "global_best_position = personal_best_positions[np.argmin(personal_best_fitness)]\n",
        "global_best_fitness = np.min(personal_best_fitness)\n",
        "\n",
        "# Run the main loop with the Himmelblau function as the fitness function.\n",
        "for i in range(max_iter):\n",
        "  # update velocities and positions\n",
        "  for j in range(num_agents):\n",
        "    r1 = np.random.randn(num_dims) # Random numbers for each dimension\n",
        "    r2 = np.random.randn(num_dims) # Random numbers for each dimension\n",
        "    # Update velocity based on personal and global and current position\n",
        "    velocities[j] = w * velocities[j] + c1 * r1 * (personal_best_positions[j] - positions[j]) + c2 * r2 * (global_best_position - positions[j])\n",
        "    # Update position\n",
        "    positions[j] = positions[j] + velocities[j]\n",
        "    # Apply boundary conditions.\n",
        "    positions[j] = np.clip(positions[j], lower_bound, upper_bound)\n",
        "    # Evaluate fitness of new position\n",
        "    fitness_new = himmelblau(positions[j])\n",
        "    # Update personal best\n",
        "    if fitness_new < personal_best_fitness[j]:\n",
        "      personal_best_positions[j] = positions[j].copy()\n",
        "      personal_best_fitness[j] = fitness_new\n",
        "      if fitness_new < global_best_fitness:\n",
        "        global_best_position = positions[j].copy()\n",
        "        global_best_fitness = fitness_new\n",
        "\n",
        "print(\"Optimization of Himmelblau Function:\")\n",
        "print(\"Global best position found: \", global_best_position)\n",
        "print(\"Global best fitness found: \", global_best_fitness)\n"
      ],
      "metadata": {
        "colab": {
          "base_uri": "https://localhost:8080/"
        },
        "id": "SzX2j3DK7cdY",
        "outputId": "09780a95-0a25-4ecc-f0a6-c07d451d4952"
      },
      "execution_count": null,
      "outputs": [
        {
          "output_type": "stream",
          "name": "stdout",
          "text": [
            "Optimization of Himmelblau Function:\n",
            "Global best position found:  [-3.79899083 -3.29871736]\n",
            "Global best fitness found:  0.024666423706568734\n"
          ]
        }
      ]
    }
  ]
}