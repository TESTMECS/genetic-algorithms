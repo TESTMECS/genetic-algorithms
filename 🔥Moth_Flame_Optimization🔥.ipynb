{
  "nbformat": 4,
  "nbformat_minor": 0,
  "metadata": {
    "colab": {
      "provenance": []
    },
    "kernelspec": {
      "name": "python3",
      "display_name": "Python 3"
    },
    "language_info": {
      "name": "python"
    }
  },
  "cells": [
    {
      "cell_type": "markdown",
      "source": [
        "\n",
        "# 🔥 Moth-Flame Optimization (MFO) Algorithm\n",
        "\n",
        "## Overview\n",
        "\n",
        "Moth-Flame Optimization (MFO) is a nature-inspired optimization algorithm that mimics the navigation behavior of moths in the presence of flames. The core concepts of MFO are:\n",
        "\n",
        "- **Population of Moths:** These represent candidate solutions in the search space.\n",
        "- **Flames:** These represent optimal or near-optimal solutions found so far.\n",
        "- **Spiral Equation:** A mathematical model used to simulate the movement of moths around flames. This equation balances exploration and exploitation during the search process.\n",
        "- **Multiple Flames:** The algorithm utilizes multiple flames to explore different regions of the search space. The number of flames is typically reduced over iterations to shift from exploration to exploitation.\n",
        "- **Flame Absorption Coefficients:** These coefficients can be used to adjust the influence of flames on the moth's movement, further balancing exploration and exploitation.\n",
        "## 💡 Uses of MFO\n",
        "\n",
        "Moth-Flame Optimization is a versatile algorithm that can be applied to a wide range of optimization problems, including:\n",
        "\n",
        "- **Classification:** Optimizing parameters of machine learning models.\n",
        "- **Clustering:** Finding optimal cluster centers.\n",
        "- **Scheduling:** Solving complex scheduling problems.\n",
        "- **Feature Selection:** Identifying the most relevant features in a dataset.\n",
        "- **Engineering Design:** Optimizing parameters in engineering applications.\n",
        "## 🔬 Future Research Directions\n",
        "\n",
        "While MFO has shown promising results, there are several avenues for future research to further enhance its performance and applicability:\n",
        "\n",
        "- **Hybridization with other optimization algorithms:** Combining MFO with other algorithms like Genetic Algorithms or Particle Swarm Optimization could lead to improved performance on certain problem types.\n",
        "- **Adaptive parameter tuning:** Developing mechanisms to adaptively adjust parameters like the spiral step size factor (gamma) and the number of flames could enhance the algorithm's robustness and efficiency.\n",
        "- **Handling constraints:** Extending MFO to effectively handle various types of constraints (equality, inequality) would broaden its applicability to real-world problems.\n",
        "- **Multi-objective optimization:** Developing multi-objective versions of MFO to solve problems with multiple conflicting objectives.\n",
        "- **Parallel and distributed computing:** Implementing parallel or distributed versions of MFO to speed up the optimization process for large-scale problems."
      ],
      "metadata": {
        "id": "7SpPk7Mrrkeu"
      }
    },
    {
      "cell_type": "markdown",
      "source": [
        "## [Visualization!!](https://g.co/gemini/share/49f0807924e0)\n"
      ],
      "metadata": {
        "id": "jhJcvu3XxxUo"
      }
    },
    {
      "cell_type": "code",
      "execution_count": null,
      "metadata": {
        "colab": {
          "base_uri": "https://localhost:8080/"
        },
        "id": "byU8D_Reritn",
        "outputId": "b64126a5-d978-442e-8673-51bc451d04df"
      },
      "outputs": [
        {
          "output_type": "stream",
          "name": "stdout",
          "text": [
            "Best Position: [3.20935365 3.11819142]\n",
            "Best Fitness: 0.9923191100407123\n"
          ]
        }
      ],
      "source": [
        "#@title a simple implementation\n",
        "\n",
        "import numpy as np\n",
        "import scipy\n",
        "\n",
        "def fitness(x):\n",
        "  return np.cos(x[0]) * np.cos(x[1]) * np.exp(-((x[0]- np.pi)**2 + (x[1] - np.pi)**2))\n",
        "\n",
        "# === params ====\n",
        "num_moths = 110\n",
        "num_dims = 2\n",
        "max_iter = 200\n",
        "gamma = 0.1 # Step size factor for spiral equation.\n",
        "lower_bound = -10\n",
        "upper_bound = 10\n",
        "\n",
        "# === initalize positions and fitness values randomly ========\n",
        "positions = np.random.uniform(lower_bound, upper_bound, (num_moths, num_dims))\n",
        "fitness_values = np.array([fitness(pos) for pos in positions])\n",
        "best_position = positions[np.argmax(fitness_values)]\n",
        "best_fitness = np.min(fitness_values)\n",
        "\n",
        "flames = np.tile(best_position, (num_moths, 1))\n",
        "flame_fitness = np.tile(best_fitness, num_moths)\n",
        "\n",
        "# === main loop ====\n",
        "for i in range(max_iter):\n",
        "  # Loop over each moth.\n",
        "  for j in range(num_moths):\n",
        "    # Choose random flame index.\n",
        "    flame_index = np.random.randint(num_moths)\n",
        "    # Calculate the distance between the current moth and the chosen flame.\n",
        "    distance = np.linalg.norm(positions[j] - flames[flame_index])\n",
        "    # Generate a new position by applying the spiral equation around the chosen flame.\n",
        "    new_position = distance * np.exp(-gamma * distance) * np.cos(2 * np.pi * distance) + flames[-flame_index]\n",
        "    # Apply boundary conditions\n",
        "    new_position = np.clip(new_position, lower_bound, upper_bound)\n",
        "    # Evaluate the fitness value of the new position.\n",
        "    new_fitness = fitness(new_position)\n",
        "    # Compare the new fitness with the old one and update accordingly.\n",
        "    if new_fitness > fitness_values[j]:\n",
        "      positions[j] = new_position.copy()\n",
        "      fitness_values[j] = new_fitness\n",
        "      if new_fitness > best_fitness:\n",
        "        best_position = new_position.copy()\n",
        "        best_fitness = new_fitness\n",
        "    # Store the moths by their fitness values in ascending order.\n",
        "    sorted_indices = np.argsort(fitness_values)\n",
        "    positions = positions[sorted_indices]\n",
        "    fitness_values = fitness_values[sorted_indices]\n",
        "    # Update the number of flames based on a linear decreasing scheme.\n",
        "    num_flames = num_moths - i * (num_moths - 1 // max_iter)\n",
        "    flames[:num_flames] = positions[:num_flames].copy()\n",
        "    flame_fitness[:num_flames] = fitness_values[:num_flames].copy()\n",
        "    #print(f\"Iteration {i}, Best Fitness: {best_fitness}\")\n",
        "print(f\"Best Position: {best_position}\")\n",
        "print(f\"Best Fitness: {best_fitness}\")\n",
        "\n"
      ]
    }
  ]
}