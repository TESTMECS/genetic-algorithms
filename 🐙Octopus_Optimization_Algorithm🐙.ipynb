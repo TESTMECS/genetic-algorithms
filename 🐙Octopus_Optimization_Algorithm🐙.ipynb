{
  "nbformat": 4,
  "nbformat_minor": 0,
  "metadata": {
    "colab": {
      "provenance": []
    },
    "kernelspec": {
      "name": "python3",
      "display_name": "Python 3"
    },
    "language_info": {
      "name": "python"
    }
  },
  "cells": [
    {
      "cell_type": "markdown",
      "source": [
        "## 🐙 Octopus Search Algorithm (OSA)\n",
        "\n",
        "### Overview\n",
        "\n",
        "The Octopus Search Algorithm (OSA) is a nature-inspired optimization algorithm that simulates the intelligent foraging behavior and remarkable camouflage abilities of octopuses to explore and exploit search spaces for finding optimal solutions. It models the population of octopuses continuously searching for the best camouflage, which represents a potential solution to an optimization problem.\n",
        "\n",
        "Key concepts include:\n",
        "\n",
        "-   **Population of Octopuses:** Each octopus represents a candidate solution in the search space. Their positions are updated based on their interactions with their environment and other octopuses.\n",
        "-   **Camouflage Matrix:** A matrix that stores the positions and fitness values of promising camouflages (solutions) discovered during the search.\n",
        "-   **Color Change Model:** Simulates an octopus's ability to match its color to its surroundings, influencing the octopus's movement towards potentially better areas in the search space.\n",
        "-   **Shape Change Model:** Mimics an octopus's ability to alter its body shape to blend in or mimic objects, allowing for exploration of the search space by referencing known good solutions.\n",
        "-   **Parameters:** Control the algorithm's behavior, such as the rate of color and shape changes, the probability of using each model, and the number of octopuses.\n",
        "\n",
        "### Uses\n",
        "\n",
        "The Octopus Search Algorithm is a metaheuristic algorithm that can be applied to a wide range of optimization problems, including:\n",
        "\n",
        "-   **Global Optimization:** Finding the best possible solution in a complex search space.\n",
        "-   **Parameter Tuning:** Optimizing the parameters of machine learning models or other systems.\n",
        "-   **Feature Selection:** Identifying the most relevant features in a dataset.\n",
        "-   **Engineering Design:** Finding optimal designs for various engineering problems.\n",
        "-   **Resource Allocation:** Optimizing the distribution of resources.\n",
        "\n",
        "### Future Research Directions\n",
        "\n",
        "Future research on the Octopus Search Algorithm could explore several avenues:\n",
        "\n",
        "-   **Hybridization:** Combining OSA with other optimization algorithms to improve performance on specific problem types.\n",
        "-   **Adaptivity:** Developing adaptive mechanisms for parameters like color and shape change rates to dynamically adjust during the optimization process.\n",
        "-   **Parallelization:** Exploring parallel implementations of OSA to speed up the optimization of large-scale problems.\n",
        "-   **Multi-objective Optimization:** Extending OSA to solve problems with multiple conflicting objectives.\n",
        "-   **Theoretical Analysis:** Conducting more rigorous theoretical analysis of OSA's convergence properties and performance guarantees.\n",
        "-   **Real-world Applications:** Applying and evaluating OSA on a broader range of real-world optimization problems to demonstrate its effectiveness.\n"
      ],
      "metadata": {
        "id": "o7t2TSQqDIyI"
      }
    },
    {
      "cell_type": "markdown",
      "source": [
        "## [Visualization!!](https://g.co/gemini/share/a7ed21abeacb)"
      ],
      "metadata": {
        "id": "OS3Eg1MNJBtS"
      }
    },
    {
      "cell_type": "code",
      "execution_count": null,
      "metadata": {
        "colab": {
          "base_uri": "https://localhost:8080/"
        },
        "id": "lk3-cG1WDC92",
        "outputId": "4d8dc791-c078-4844-cd36-632c348ac7fc"
      },
      "outputs": [
        {
          "output_type": "stream",
          "name": "stdout",
          "text": [
            "Best position: [3.14316992 3.13990816]\n",
            "Best fitness: -0.9999920121218379\n"
          ]
        }
      ],
      "source": [
        "import numpy as np\n",
        "import scipy\n",
        "\n",
        "def fitness(x):\n",
        "  # Added return statement to return the calculated value\n",
        "  return -np.cos(x[0]) * np.cos(x[1]) * np.exp(-((x[0] - np.pi)**2 + (x[1] - np.pi)**2))\n",
        "\n",
        "# === params ======\n",
        "num_octopuses = 100\n",
        "num_dims = 2\n",
        "max_iter = 1000\n",
        "alpha = 0.01 # Color change rate factor.\n",
        "beta = 0.1 # Shape change rate factor.\n",
        "p = 0.5 # probability between color change and shape change.\n",
        "lower_bound = -10\n",
        "upper_bound = 10\n",
        "# ==================\n",
        "positions = np.random.uniform(lower_bound, upper_bound, (num_octopuses, num_dims))\n",
        "fitness_values = np.array([fitness(pos) for pos in positions])\n",
        "best_position = positions[np.argmin(fitness_values)]\n",
        "best_fitness = np.min(fitness_values)\n",
        "\n",
        "# Initalize the camouflage positions and fitness values\n",
        "camoflages = np.tile(best_position, (num_octopuses, 1))\n",
        "camoflage_fitness = np.tile(best_fitness, num_octopuses)\n",
        "# === main loop ======\n",
        "for i in range(max_iter):\n",
        "  # Loop over each octopus\n",
        "  for j in range(num_octopuses):\n",
        "    # Choose a random camouflage index.\n",
        "    camouflage_index = np.random.randint(num_octopuses)\n",
        "    # Calculate the distance between the octopus and the camouflage.\n",
        "    distance = np.linalg.norm(positions[j] - camoflages[camouflage_index])\n",
        "    # Choose either kcolor change model or shape change model based on a random parameter q between 0 and 1\n",
        "    q = np.random.rand()\n",
        "\n",
        "    if q < p:\n",
        "      # Use color change model to update position.\n",
        "      new_position = positions[j] + alpha * scipy.stats.levy_stable.rvs(1.5,0,size=num_dims) * (camoflages[camouflage_index] - positions[j])\n",
        "    else:\n",
        "      # Use shape change model to update position.\n",
        "      new_position = camoflages[camouflage_index] + beta * distance * np.random.uniform(-1,1,size=num_dims)\n",
        "    # Apply boundary conditions\n",
        "    new_position = np.clip(new_position, lower_bound, upper_bound)\n",
        "    # Evalute the fitness value of the new position.\n",
        "    new_fitness = fitness(new_position)\n",
        "    # Update the camouflage position and fitness value if the new fitness value is better.\n",
        "    if new_fitness < camoflage_fitness[j]:\n",
        "      camoflages[j] = new_position.copy()\n",
        "      camoflage_fitness[j] = new_fitness\n",
        "      if new_fitness < best_fitness:\n",
        "        best_position = new_position.copy()\n",
        "        best_fitness = new_fitness\n",
        "\n",
        "    # Sort the octopuses by their fitness values in ascending order.\n",
        "    sorted_indices = np.argsort(fitness_values)\n",
        "    positions = positions[sorted_indices]\n",
        "    fitness_values = fitness_values[sorted_indices]\n",
        "    # Update the number of camoflages positions and fitness values by copying from the best octopuses.\n",
        "    num_camoflages = num_octopuses - i * (num_octopuses - 1) // max_iter\n",
        "    camoflages[:num_camoflages] = positions[:num_camoflages].copy()\n",
        "    camoflage_fitness[:num_camoflages] = fitness_values[:num_camoflages].copy()\n",
        "\n",
        "print(\"Best position:\", best_position)\n",
        "print(\"Best fitness:\", best_fitness)\n"
      ]
    }
  ]
}