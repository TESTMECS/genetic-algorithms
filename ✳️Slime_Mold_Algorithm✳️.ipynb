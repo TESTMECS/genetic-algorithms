{
  "nbformat": 4,
  "nbformat_minor": 0,
  "metadata": {
    "colab": {
      "provenance": []
    },
    "kernelspec": {
      "name": "python3",
      "display_name": "Python 3"
    },
    "language_info": {
      "name": "python"
    }
  },
  "cells": [
    {
      "cell_type": "markdown",
      "source": [
        "## Overivew ✳️\n",
        "- Population of slime molds that can explore a discrete or continuous search space.\n",
        "- A diffusion model that simulates the movement and interaction of the slime molds.\n",
        "- A chemotaxis mdoel that simulates attraction and repulsion of the slime molds by chemical signals\n",
        "- A set of parameters that control the diffusion rate, chemotaxis sensitivity  and population size.\n",
        "## Uses\n",
        "- The SMA can be used to find optimal solution to a complex optimization problem, such as routing networks or image segmentation.\n",
        "- The diffusion model allows the slime molds to spread and merge with each other while the chemotaxis model allows them to move towards or away from chemical signals that represent the objective function.\n",
        "- The algorithm terminates when a predefined criterion is met.\n",
        "\n",
        "\n",
        "\n",
        "\n"
      ],
      "metadata": {
        "id": "U-jyev9GYAIA"
      }
    },
    {
      "cell_type": "markdown",
      "source": [
        "## [Visualization](https://claude.ai/public/artifacts/cfff48a5-02f3-4efa-9dd6-3a5398b5029e)"
      ],
      "metadata": {
        "id": "3VtaVSsBLgfy"
      }
    },
    {
      "cell_type": "code",
      "execution_count": null,
      "metadata": {
        "colab": {
          "base_uri": "https://localhost:8080/"
        },
        "id": "eG4r-nObX7-G",
        "outputId": "e7022689-e2c2-4aef-acb5-62f4b470a775"
      },
      "outputs": [
        {
          "output_type": "stream",
          "name": "stdout",
          "text": [
            "Best slime mold: [-0.36093805 -0.2241752 ]\n",
            "Best fitness: 0.18053079455329132\n"
          ]
        }
      ],
      "source": [
        "#@title A simple implementation.\n",
        "\n",
        "import numpy as np\n",
        "\n",
        "def fitness(x):\n",
        "  return np.sum(x**2)\n",
        "\n",
        "# === params ====\n",
        "num_slimes = 100\n",
        "num_dims = 2\n",
        "max_iter = 200\n",
        "diffusion_rate = 0.1\n",
        "chemotaxis_rate = 0.1 # Chemotaxis sensitvity\n",
        "lower_bound = -5\n",
        "upper_bound = 5\n",
        "# ===================\n",
        "positions = np.random.uniform(lower_bound, upper_bound, (num_slimes, num_dims))\n",
        "concentrations = np.random.uniform(0, 1, (num_slimes))\n",
        "\n",
        "# === main loop ======\n",
        "for i in range(max_iter):\n",
        "  for j in range(num_slimes):\n",
        "    # Random neighbor\n",
        "    neighbor = j\n",
        "    while neighbor == j:\n",
        "      neighbor = np.random.randint(0, num_slimes)\n",
        "    # find the difference between the current slime mold and its neighbor.\n",
        "    delta_fitness = fitness(positions[j]) - fitness(positions[neighbor])\n",
        "    # Update the position by applying the diffusion and chemotaxis models\n",
        "    new_position = positions[j] + diffusion_rate * (positions[neighbor] - positions[j]) + chemotaxis_rate * delta_fitness * np.random.uniform(-1, 1, num_dims)\n",
        "    # Apply boundary conditions\n",
        "    new_position = np.clip(new_position, lower_bound, upper_bound)\n",
        "    # Update the concentration by applying the diffusion model\n",
        "    new_concentration = concentrations[j] + diffusion_rate * (concentrations[neighbor] - concentrations[j])\n",
        "    # Update the positions and concentrations\n",
        "    positions[j] = new_position.copy()\n",
        "    concentrations[j] = new_concentration\n",
        "    # Find the best slime mold and its fitness value\n",
        "    best_slime = np.argmin([fitness(p) for p in positions])\n",
        "    best_fitness = fitness(positions[best_slime])\n",
        "    #print(f\"Iteration {i}, Best fitness: {best_fitness}\")\n",
        "print(f\"Best slime mold: {positions[best_slime]}\")\n",
        "print(f\"Best fitness: {best_fitness}\")\n",
        "\n",
        "\n",
        "\n",
        "\n"
      ]
    },
    {
      "cell_type": "markdown",
      "source": [
        "# Visualization Artifact!\n",
        "https://claude.ai/public/artifacts/cfff48a5-02f3-4efa-9dd6-3a5398b5029e"
      ],
      "metadata": {
        "id": "SMlYQomrdjnD"
      }
    }
  ]
}