{
  "nbformat": 4,
  "nbformat_minor": 0,
  "metadata": {
    "colab": {
      "provenance": []
    },
    "kernelspec": {
      "name": "python3",
      "display_name": "Python 3"
    },
    "language_info": {
      "name": "python"
    }
  },
  "cells": [
    {
      "cell_type": "markdown",
      "source": [
        "# 🐧 Penguin Search Optimization (PSO) Algorithm\n",
        "\n",
        "## Overview ✨\n",
        "\n",
        "- Population of penguins that can dive and swim in a continuous search space.\n",
        "- A prey matrix that stores the position and fitness value of each prey (potential solutions).\n",
        "- A diving model that simulates the penguins' movement towards the prey.\n",
        "- A swimming model that simulates the penguins' movement around the prey.\n",
        "- A set of parameters that control the diving depth, the swimming radius, and the number of prey.\n",
        "\n",
        "## Uses 🚀\n",
        "\n",
        "- At each iteration, each penguin updates its position by applying either the diving model or the swimming model, depending on a random parameter.\n",
        "- Penguins move towards the swimming model in a spiral shape.\n",
        "- Also allows the penguin to move around the best solution randomly.\n",
        "- The prey are updated by better penguin solutions found during the iteration.\n",
        "\n",
        "## Future Research Directions 🔬\n",
        "\n",
        "- Adapting the algorithm for discrete optimization problems.\n",
        "- Exploring different variations of the diving and swimming models.\n",
        "- Investigating the impact of different parameter settings on performance.\n",
        "- Applying the algorithm to real-world optimization problems in various domains.\n"
      ],
      "metadata": {
        "id": "dcz-FO455NTc"
      }
    },
    {
      "cell_type": "markdown",
      "source": [
        "[Visualizations !!](https://g.co/gemini/share/eb6ece7ba06f)"
      ],
      "metadata": {
        "id": "EhvD7yeB-Iq0"
      }
    },
    {
      "cell_type": "code",
      "execution_count": null,
      "metadata": {
        "colab": {
          "base_uri": "https://localhost:8080/"
        },
        "id": "T0vbkFXm5HQ4",
        "outputId": "a75b5184-06ce-4432-8b43-4116f05c602b"
      },
      "outputs": [
        {
          "output_type": "stream",
          "name": "stdout",
          "text": [
            "Best position: [3.14158723 3.14160097]\n",
            "Best fitness: -0.9999999998523148\n"
          ]
        }
      ],
      "source": [
        "import numpy as np\n",
        "\n",
        "def fitness(x):\n",
        "  return -np.cos(x[0]) * np.cos(x[1]) * np.exp(-((x[0] - np.pi)**2 + (x[1] -np.pi)**2))\n",
        "\n",
        "# === params ====\n",
        "num_penguins = 50\n",
        "num_dims = 2\n",
        "max_iter = 200\n",
        "alpha = 0.01 # Diving depth factor\n",
        "beta = 0.1 # Swimming Radius factor\n",
        "p = 0.5 # Switching probability between diving and swimming.\n",
        "lower_bound = -10\n",
        "upper_bound = 10\n",
        "\n",
        "# === initalize the penguin positions and fitness values randomly ====\n",
        "positions = np.random.uniform(lower_bound, upper_bound, size=(num_penguins, num_dims))\n",
        "fitness_values = np.array([fitness(pos) for pos in positions])\n",
        "best_position = positions[np.argmin(fitness_values)]\n",
        "best_fitness = np.min(fitness_values)\n",
        "\n",
        "# === initalize prey positions. =====\n",
        "prey = np.tile(best_position, (num_penguins, 1))\n",
        "prey_fitness = np.tile(best_fitness, num_penguins)\n",
        "\n",
        "# === main loop ===\n",
        "for i in range(max_iter):\n",
        "  # loop over each penguin\n",
        "  for j in range(num_penguins):\n",
        "    # choose a random prey index.\n",
        "    prey_index = np.random.randint(num_penguins)\n",
        "    # calculate the distance between the penguin and the prey.\n",
        "    distance = np.linalg.norm(positions[j] - prey[prey_index])\n",
        "    # Choose either diving model or swimming model based a random parameter q between 0 and 1.\n",
        "    q = np.random.rand()\n",
        "    if q < p:\n",
        "      # Use diving model to update position.\n",
        "      new_position = distance * np.exp(-alpha * distance) * np.cos(2 * np.pi * distance) + prey[prey_index]\n",
        "    else:\n",
        "      # Use swimming model to update position.\n",
        "      new_position = prey[prey_index] + beta * distance * np.random.uniform(-1, 1, num_dims)\n",
        "    # Apply boundary conditions\n",
        "    new_position = np.clip(new_position, lower_bound, upper_bound)\n",
        "    # Evaluate new fitness.\n",
        "    new_fitness = fitness(new_position)\n",
        "    # Update prey if new fitness is better.\n",
        "    if new_fitness < fitness_values[j]:\n",
        "      positions[j] = new_position.copy()\n",
        "      fitness_values[j] = new_fitness\n",
        "      if new_fitness < best_fitness:\n",
        "        best_position = new_position.copy()\n",
        "        best_fitness = new_fitness\n",
        "    # Sort the penguins by their fitness values in ascending order.\n",
        "    sorted_indices = np.argsort(fitness_values)\n",
        "    positions = positions[sorted_indices]\n",
        "    fitness_values = fitness_values[sorted_indices]\n",
        "    # Update the number of prey based on a linear decreasing scheme.\n",
        "    num_prey = num_penguins - i * (num_penguins - 1) // max_iter\n",
        "    # Update the prey positions and fitness values by copying from the best penguins.\n",
        "    prey[:num_prey] = positions[:num_prey].copy()\n",
        "    prey_fitness[:num_prey] = fitness_values[:num_prey].copy()\n",
        "\n",
        "print(\"Best position:\", best_position)\n",
        "print(\"Best fitness:\", best_fitness)\n"
      ]
    }
  ]
}