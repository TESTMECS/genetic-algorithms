{
  "nbformat": 4,
  "nbformat_minor": 0,
  "metadata": {
    "colab": {
      "provenance": []
    },
    "kernelspec": {
      "name": "python3",
      "display_name": "Python 3"
    },
    "language_info": {
      "name": "python"
    }
  },
  "cells": [
    {
      "cell_type": "markdown",
      "source": [
        "## 🐺 Grey Wolf Optimization (GWO) Algorithm 🐺\n",
        "\n",
        "### Overview\n",
        "- Inspired by the social hierarchy and hunting behavior of grey wolves.\n",
        "- Population of grey wolves that hunt in the continuous search space.\n",
        "- A Leader wolf (alpha) that guides the pack towards promising areas.\n",
        "- Follower wolves (beta and delta) that help scout the search space.\n",
        "- Omega wolves that follow the guidance of the alpha, beta, and delta wolves.\n",
        "- A set of encircling, hunting, and attacking coefficents to balance exploration vs explotation.\n",
        "\n",
        "### Uses 🎯\n",
        "- Find the optimal solution to complex optimization problems like function optimization, feature selection, scheduling etc.\n",
        "- At each iteration the alpha, beta, and delta wolves guide the omega wolves by updating their distance and position based on the best three solutions.\n",
        "- The omega wolves update their positions by encircling, hunting, and attacking the prey guided by the top three wolves.\n",
        "\n",
        "### Future Research Directions 🤔\n",
        "- Hybridizing GWO with other metaheuristic algorithms to improve performance.\n",
        "- Applying GWO to solve multi-objective optimization problems.\n",
        "- Developing adaptive parameter control strategies for GWO.\n",
        "- Exploring the use of GWO in dynamic and noisy environments.\n",
        "- Investigating the theoretical convergence properties of GWO.\n"
      ],
      "metadata": {
        "id": "A27IRPNjy_o6"
      }
    },
    {
      "cell_type": "markdown",
      "source": [
        "[Visualizations !!](https://g.co/gemini/share/be1ef3c8c91c)"
      ],
      "metadata": {
        "id": "GqFlnaqN465r"
      }
    },
    {
      "cell_type": "code",
      "execution_count": null,
      "metadata": {
        "colab": {
          "base_uri": "https://localhost:8080/"
        },
        "id": "d9SWCCnxyZeo",
        "outputId": "6e2a4e7c-718c-4245-c43e-ab2a976532b2"
      },
      "outputs": [
        {
          "output_type": "stream",
          "name": "stdout",
          "text": [
            "Best position:  [3.14156192 3.1418419 ]\n",
            "Best fitness:  -0.9999999053964448\n"
          ]
        }
      ],
      "source": [
        "#@title a simple implementation.\n",
        "\n",
        "import numpy as np\n",
        "\n",
        "def fitness(x):\n",
        "  return -np.cos(x[0]) * np.cos(x[1]) * np.exp(- ((x[0] - np.pi)**2 + (x[1] - np.pi)**2 ))\n",
        "\n",
        "num_wolves = 50\n",
        "num_dims = 2\n",
        "max_iter = 200\n",
        "# Parameters for encircling prey.\n",
        "A1 = 2\n",
        "A2 = 2\n",
        "A3 = 2\n",
        "A4 = 2\n",
        "lower_bound = -10\n",
        "upper_bound = 10\n",
        "\n",
        "# === initalize positions and values randomly =====\n",
        "positions = np.random.uniform(lower_bound, upper_bound, (num_wolves, num_dims))\n",
        "fitness_values = np.array([fitness(pos) for pos in positions])\n",
        "best_positions = positions[np.argmin(fitness_values)]\n",
        "best_fitness_values = np.min(fitness_values)\n",
        "\n",
        "# === main loop ====\n",
        "for i in range(max_iter):\n",
        "  # loop over each wolf.\n",
        "  for j in range(num_wolves):\n",
        "    # Choose a random alpha, beta, and delta wolf from the population.\n",
        "    alpha, beta, delta = np.random.choice(num_wolves, 3, replace=False)\n",
        "    # Calculate the distance between the current wolf and the alpha, beta, and delta.\n",
        "    dist_alpha = np.linalg.norm(positions[j] - positions[alpha])\n",
        "    dist_beta = np.linalg.norm(positions[j] - positions[beta])\n",
        "    dist_delta = np.linalg.norm(positions[j] - positions[delta])\n",
        "    # Generate a new position by encircling the alpha, beta, and delta wolves.\n",
        "    x1 = positions[alpha] - A1 * dist_alpha * np.random.rand()\n",
        "    x2 = positions[beta] - A2 * dist_beta * np.random.rand()\n",
        "    x3 = positions[delta] - A3 * dist_delta * np.random.rand()\n",
        "    # New position is an average.\n",
        "    x_hunt = (x1 + x2 + x3) / 3\n",
        "    # Generate a new position by attacking alpha wolf with more randomness.\n",
        "    X_attack = x_hunt - A4 * (np.random.rand() - 0.5) * dist_alpha\n",
        "    # Apply boundary conditions\n",
        "    X_attack = np.clip(X_attack, lower_bound, upper_bound)\n",
        "    # Evaluate the fitness of the new position.\n",
        "    new_fitness = fitness(X_attack)\n",
        "    # Compare the new fitness with the old one and update accordingly\n",
        "    if new_fitness < fitness_values[j]:\n",
        "      positions[j] = X_attack.copy()\n",
        "      fitness_values[j] = new_fitness\n",
        "      if new_fitness < best_fitness_values:\n",
        "        best_fitness_values = new_fitness\n",
        "        best_positions = positions[j].copy()\n",
        "\n",
        "print(\"Best position: \", best_positions)\n",
        "print(\"Best fitness: \", best_fitness_values)"
      ]
    },
    {
      "cell_type": "code",
      "source": [],
      "metadata": {
        "id": "H0kbx9an0XVD"
      },
      "execution_count": null,
      "outputs": []
    }
  ]
}