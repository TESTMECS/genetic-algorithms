{
  "nbformat": 4,
  "nbformat_minor": 0,
  "metadata": {
    "colab": {
      "provenance": []
    },
    "kernelspec": {
      "name": "python3",
      "display_name": "Python 3"
    },
    "language_info": {
      "name": "python"
    }
  },
  "cells": [
    {
      "cell_type": "markdown",
      "source": [
        "# Cuckoo Search Algorithm 🐦\n",
        "\n",
        "## Concepts ✨\n",
        "\n",
        "The Cuckoo Search (CS) algorithm is a nature-inspired metaheuristic optimization algorithm. It is based on the obligate brood parasitism of some cuckoo species that lay their eggs in the nests of other host birds. The core concepts include:\n",
        "\n",
        "- **Cuckoos and Eggs:** Each cuckoo represents a potential solution to an optimization problem, and its egg represents the candidate solution.\n",
        "- **Host Nests:** These represent possible locations for the cuckoo eggs (candidate solutions).\n",
        "- **Levy Flights:** Cuckoos search for host nests using Levy flights, which are random walks with occasional long jumps. This helps explore the search space effectively.\n",
        "- **Egg Discovery:** Host birds may discover the foreign cuckoo eggs with a certain probability and either throw them away or abandon the nest and build a new one. This mechanism helps in discarding poor solutions and generating new ones.\n",
        "\n",
        "## Uses 💡\n",
        "\n",
        "The Cuckoo Search algorithm is a versatile optimization method that can be applied to various problems, including:\n",
        "\n",
        "- **Solving complex optimization problems:** CS has been successfully used to find optimal solutions for challenging problems, including multimodal functions and engineering design optimization.\n",
        "- **Feature selection:** It can be used to select the most relevant features for machine learning models.\n",
        "- **Scheduling and resource allocation:** CS can help in optimizing schedules and allocating resources efficiently.\n",
        "- **Image processing:** It has applications in image segmentation and other image processing tasks.\n",
        "\n",
        "## Future Research Directions 🔬\n",
        "\n",
        "Future research in Cuckoo Search can focus on:\n",
        "\n",
        "- **Hybridization:** Combining CS with other optimization algorithms to improve its performance and address specific problem characteristics.\n",
        "- **Parameter tuning:** Developing adaptive mechanisms for tuning the algorithm's parameters during the optimization process.\n",
        "- **Parallelization:** Implementing parallel versions of CS to leverage multi-core processors and distributed computing environments for faster convergence.\n",
        "- **Application to new domains:** Exploring the applicability of CS to emerging areas like deep learning, big data, and cybersecurity.\n",
        "\n",
        "FTG --- A.W.\n"
      ],
      "metadata": {
        "id": "7EJkNYiz3ULp"
      }
    },
    {
      "cell_type": "markdown",
      "source": [
        "## [Visualization!!](https://g.co/gemini/share/c7325c81641d)\n",
        "**Note: JS Number accuracy is not accurate to numpy implementation.**"
      ],
      "metadata": {
        "id": "CHaYmcod9ucN"
      }
    },
    {
      "cell_type": "code",
      "execution_count": null,
      "metadata": {
        "colab": {
          "base_uri": "https://localhost:8080/"
        },
        "id": "PX9Y5DYl3QkL",
        "outputId": "316560a2-dc8a-4808-dc00-03f869b717af"
      },
      "outputs": [
        {
          "output_type": "stream",
          "name": "stdout",
          "text": [
            "Best solution: [0.71170788 0.2140815  0.7279443  1.60953371 2.50177347 0.26896105\n",
            " 1.71962862 2.71048992 0.2208284  2.84358508]\n",
            "Best fitness: -4.988068493674156e-06\n"
          ]
        }
      ],
      "source": [
        "#@title A simple implementation.\n",
        "import numpy as np\n",
        "import scipy\n",
        "\n",
        "# Michalewicz\n",
        "def fitness(x):\n",
        "  return -np.sum(np.sin(x) * np.sin((np.arange(1, len(x)+1) * x**2) / np.pi)**20)\n",
        "\n",
        "# === params =====\n",
        "num_cuckoos = 100\n",
        "num_dims = 10\n",
        "max_iter = 500\n",
        "alpha = 0.01 # Levy flight scale factor.\n",
        "beta = 1.5 # Levy flight exponent.\n",
        "p = 0.25 # Discovery rate.\n",
        "lower_bound = 0\n",
        "upper_bound = np.pi\n",
        "\n",
        "# === initalize the cuckoo positions and fitness values randomly ====\n",
        "positions = np.random.uniform(lower_bound, upper_bound, (num_cuckoos, num_dims))\n",
        "fitness_values = np.array([fitness(x) for x in positions])\n",
        "best_position = positions[np.argmax(fitness_values)]\n",
        "best_fitness = np.min(fitness_values)\n",
        "\n",
        "# === main loop =======\n",
        "for i in range(max_iter):\n",
        "  # Loop over each cuckoo\n",
        "  for j in range(num_cuckoos):\n",
        "    # Generate a new position by applying levy flight model\n",
        "    new_position = positions[j] + alpha * scipy.stats.levy_stable.rvs(beta, 0, size=num_dims)\n",
        "    # Apply boundary conditions\n",
        "    new_position = np.clip(new_position, lower_bound, upper_bound)\n",
        "    # Evaluate the fitness of the new position\n",
        "    new_fitness = fitness(new_position)\n",
        "    # Compare the new fitness with the old one and update accordingly\n",
        "    if new_fitness > fitness_values[j]:\n",
        "      positions[j] = new_position\n",
        "      fitness_values[j] = new_fitness\n",
        "      if new_fitness > best_fitness:\n",
        "        best_position = new_position.copy()\n",
        "        best_fitness = new_fitness\n",
        "      # Abandon a fraction of the worst cuckoos and replace them with new ones randomly generated.\n",
        "      num_abandoned = int(p * num_cuckoos)\n",
        "      worst_indices = np.argsort(fitness_values)[-num_abandoned:]\n",
        "      positions[worst_indices] = np.random.uniform(lower_bound, upper_bound, (num_abandoned, num_dims))\n",
        "      fitness_values[worst_indices] = np.array([fitness(x) for x in positions[worst_indices]])\n",
        "      #print(f\"Iteration {i+1}: Best fitness = {best_fitness}\")\n",
        "print(f\"Best solution: {best_position}\")\n",
        "print(f\"Best fitness: {best_fitness}\")\n",
        "\n"
      ]
    },
    {
      "cell_type": "code",
      "source": [],
      "metadata": {
        "id": "XDm-RwEy5B9h"
      },
      "execution_count": null,
      "outputs": []
    }
  ]
}