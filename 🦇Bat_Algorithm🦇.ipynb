{
  "nbformat": 4,
  "nbformat_minor": 0,
  "metadata": {
    "colab": {
      "provenance": []
    },
    "kernelspec": {
      "name": "python3",
      "display_name": "Python 3"
    },
    "language_info": {
      "name": "python"
    }
  },
  "cells": [
    {
      "cell_type": "markdown",
      "source": [
        "# The Bat Algorithm: An Overview 🦇\n",
        "\n",
        "## Introduction\n",
        "\n",
        "Inspired by the sophisticated echolocation behavior of microbats, the Bat Algorithm is a powerful metaheuristic developed for solving global optimization problems. It simulates a population of artificial bats navigating a multidimensional search space, mimicking the bats' ability to locate prey (optimal solutions) using sound pulses. The algorithm effectively balances exploration of the search space with exploitation of promising regions to efficiently find near-optimal or optimal solutions to complex problems.\n",
        "\n",
        "## Core Concepts\n",
        "\n",
        "The Bat Algorithm is built upon several key concepts derived from the behavior of real bats:\n",
        "\n",
        "*   **Echolocation:** Bats emit ultrasonic pulses and listen for the echoes to determine the distance, size, and shape of objects. In the algorithm, this is represented by the generation of new candidate solutions.\n",
        "*   **Frequency (f):** Represents the speed at which a bat changes its position. Lower frequencies correspond to larger step sizes, promoting exploration, while higher frequencies lead to smaller steps and exploitation.\n",
        "*   **Velocity (v):** Determines the direction and magnitude of a bat's movement in the search space.\n",
        "*   **Loudness (A):** Represents the intensity of the emitted pulse. Initially high, loudness decreases as a bat finds better solutions, reducing the likelihood of generating new random solutions and favoring exploitation.\n",
        "*   **Pulse Rate (r):** Indicates the rate at which a bat emits pulses. Initially low, the pulse rate increases as a bat approaches a potential solution, increasing the likelihood of exploiting the best solution found so far.\n",
        "*   **Global Best Solution:** The best position found by any bat in the population up to the current iteration. This guides the search process.\n",
        "\n",
        "## Applications and Uses\n",
        "\n",
        "The Bat Algorithm has proven to be effective in solving a wide range of optimization problems across various domains. Some common applications include:\n",
        "\n",
        "*   **Function Optimization:** Finding the global minimum or maximum of complex mathematical functions, including multimodal functions with numerous local optima.\n",
        "*   **Engineering Design:** Optimizing parameters in engineering problems, such as structural design, control systems, and electrical engineering.\n",
        "*   **Machine Learning:** Used for feature selection, hyperparameter tuning, and training neural networks.\n",
        "*   **Image Processing:** Employed in tasks like image segmentation and feature extraction.\n",
        "*   **Scheduling and Logistics:** Applied to solve problems related to scheduling tasks, vehicle routing, and resource allocation.\n",
        "\n",
        "The algorithm's ability to handle continuous search spaces and its balance between exploration and exploitation make it a versatile tool for optimization.\n",
        "\n",
        "## Further Research and Extensions\n",
        "\n",
        "The Bat Algorithm is an active area of research, with ongoing efforts to improve its performance and broaden its applicability. Some directions for further research and extensions include:\n",
        "\n",
        "*   **Hybrid Bat Algorithms:** Combining the Bat Algorithm with other metaheuristic algorithms (e.g., Particle Swarm Optimization, Genetic Algorithms) to leverage their strengths and enhance performance.\n",
        "*   **Discrete Bat Algorithm:** Adapting the algorithm to solve discrete optimization problems, where the decision variables are integers or categorical.\n",
        "*   **Multi-objective Bat Algorithm:** Extending the algorithm to handle problems with multiple conflicting objectives simultaneously.\n",
        "*   **Parameter Tuning:** Developing adaptive or self-adaptive strategies for tuning the algorithm's parameters (frequency range, alpha, gamma, etc.) to improve its efficiency and robustness.\n",
        "*   **Theoretical Analysis:** Conducting more rigorous theoretical analysis of the algorithm's convergence properties and performance characteristics.\n",
        "*   **Real-world Applications:** Exploring and demonstrating the effectiveness of the Bat Algorithm in solving new and challenging real-world optimization problems.\n",
        "\n",
        "Continued research in these areas aims to make the Bat Algorithm even more powerful and widely applicable.\n"
      ],
      "metadata": {
        "id": "ilZrtfXZnEwA"
      }
    },
    {
      "cell_type": "markdown",
      "source": [
        "## [Visualization!!](https://g.co/gemini/share/33d74f0ab3ad)"
      ],
      "metadata": {
        "id": "uSiQHC8b2pEF"
      }
    },
    {
      "cell_type": "code",
      "execution_count": null,
      "metadata": {
        "id": "EJl_V75DnBZI",
        "colab": {
          "base_uri": "https://localhost:8080/"
        },
        "outputId": "91eecd48-75b8-465d-ea93-f6c05933cf0f"
      },
      "outputs": [
        {
          "output_type": "stream",
          "name": "stdout",
          "text": [
            "Best solution: [-299.40329915 -283.14533707  224.3970056   414.89992934 -299.03019573\n",
            " -329.97668556 -460.20280345 -263.89947786   79.54364948 -152.5806139 ]\n",
            "Best fitness: 2097.6245880106144\n"
          ]
        }
      ],
      "source": [
        "import numpy as np\n",
        "\n",
        "def fitness(x):\n",
        "  return 418.9829 * len(x) - np.sum(x * np.sin(np.sqrt(np.abs(x))))\n",
        "\n",
        "# === params =====\n",
        "num_bats = 100\n",
        "num_dims = 10\n",
        "max_iter = 200\n",
        "freq_min = 0.001\n",
        "freq_max = 0.1\n",
        "init_loudness = 1\n",
        "alpha = 0.9 # Loudness reduction factor\n",
        "r0 = 0.5 # Initial pulse rate\n",
        "gamma = 0.9 # Pulse Rate increase factor\n",
        "lower_bound = -500\n",
        "upper_bound = 500\n",
        "\n",
        "# === initalize bat positions, velocities, frequencies =====\n",
        "positions = np.random.uniform(lower_bound, upper_bound, (num_bats, num_dims))\n",
        "velocities = np.zeros((num_bats, num_dims))\n",
        "frequencies = np.random.uniform(freq_min, freq_max, (num_bats))\n",
        "loudness = np.ones(num_bats) * init_loudness\n",
        "pulse_rates = np.ones(num_bats) * r0\n",
        "fitness_values = np.array([fitness(x) for x in positions])\n",
        "# best position and its fitness values\n",
        "best_position = positions[np.argmin(fitness_values)]\n",
        "best_fitness = np.min(fitness_values)\n",
        "# === main loop =============\n",
        "for i in range(max_iter):\n",
        "  for j in range(num_bats):\n",
        "    # Update frequency by applying the freq function\n",
        "    frequencies[j] = freq_min + (freq_max - freq_min) * np.random.rand()\n",
        "    # Update the velocity by adding the product of frequency and distance to best position\n",
        "    velocities[j] = velocities[j] + (positions[j] - best_position) * frequencies[j]\n",
        "    # Update the position by adding the velocity\n",
        "    positions[j] = positions[j] + velocities[j]\n",
        "    # Apply boundary conditions\n",
        "    positions[j] = np.clip(positions[j], lower_bound, upper_bound)\n",
        "    # Generate a new position by adding some randomness to the current position\n",
        "    new_position = positions[j] + np.random.uniform(-1, 1, num_dims)\n",
        "    # Apply the boundary conditions\n",
        "    new_position = np.clip(new_position, lower_bound, upper_bound)\n",
        "    # Evaluate the new fitness of the new position\n",
        "    new_fitness = fitness(new_position)\n",
        "    # Compare the new fitness with the old one and update accordingly.\n",
        "    if new_fitness < fitness_values[j] and (np.random.rand() < loudness[j]):\n",
        "      positions[j] = new_position.copy()\n",
        "      fitness_values[j] = new_fitness\n",
        "\n",
        "      if new_fitness < best_fitness:\n",
        "        best_position = new_position.copy()\n",
        "        best_fitness = new_fitness\n",
        "    # Generate another new position by exploiting the best position if a random number is less than pulse rate\n",
        "    if np.random.rand() < pulse_rates[j]:\n",
        "      # Generate a new position by adding some randomness to best position\n",
        "      new_position = best_position + np.random.uniform(-1, 1, num_dims) * loudnesses[j]\n",
        "      # Apply the boundary conditions\n",
        "      new_position = np.clip(new_position, lower_bound, upper_bound)\n",
        "      # Evaluate the new fitness of the new position\n",
        "      new_fitness = fitness(new_position)\n",
        "      # compare the new fitness with the old one and update accordingly if a random number is less than loudness value\n",
        "      if (new_fitness < fitness_values[j]) and (np.random.rand() < loudnesses[j]):\n",
        "        positions[j] = new_position.copy()\n",
        "        fitness_values[j] = new_fitness\n",
        "        # Update the loudness and pulse rate values\n",
        "        loudness[j] = alpha * loudness[j]\n",
        "        pulse_rates[j] = r0 * (1 - np.exp(-gamma * i))\n",
        "      else:\n",
        "        # Update the loudness and pulse rate values\n",
        "        loudness[j] = alpha * loudness[j]\n",
        "        pulse_rates[j] = r0 * (1 - np.exp(-gamma * i))\n",
        "\n",
        "        # Update the best position and fitness if improved\n",
        "        if new_fitness < best_fitness:\n",
        "          best_position = positions[j].copy()\n",
        "          best_fitnesss = new_fitness\n",
        "\n",
        "        #print(f\"Iteration {i+1}: Best fitness = {best_fitness:.4f}\")\n",
        "print(f\"Best solution: {best_position}\")\n",
        "print(f\"Best fitness: {best_fitness}\")\n",
        "\n"
      ]
    }
  ]
}